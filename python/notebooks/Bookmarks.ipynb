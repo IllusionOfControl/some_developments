{
 "cells": [
  {
   "cell_type": "markdown",
   "metadata": {},
   "source": [
    "## Закладки\n",
    "\n",
    "Ситуация с закладками следующая - многое оставленно всё на ___почитаю потом___. Особенно так с Habr'ом. Pixiv и DeviantArt и прочие арт-борды думаю просто скрапнуть."
   ]
  },
  {
   "cell_type": "code",
   "execution_count": null,
   "metadata": {},
   "outputs": [],
   "source": [
    "JSON_PATH = r\"C:\\Users\\serge\\AppData\\Local\\Google\\Chrome\\User Data\\Default\\Bookmarks\"\n",
    "\n",
    "import json\n",
    "\n",
    "data = None\n",
    "\n",
    "with open(JSON_PATH, 'r', encoding='utf-8') as f:\n",
    "    data = f.read()\n",
    "\n",
    "rdata = json.loads(data)\n",
    "urls=[]\n",
    "\n",
    "def walk(urls, childs):\n",
    "    for child in childs['children']:\n",
    "        if child['type'] == 'url':\n",
    "            urls.append(child['url'])\n",
    "        elif child['type'] == 'folder':\n",
    "            walk(urls, child)\n",
    "\n",
    "for root in rdata['roots']:\n",
    "    for child in rdata['roots'][root]:\n",
    "        walk(urls, rdata['roots'][root])\n",
    "        \n",
    "urls = list(dict.fromkeys(urls))\n",
    "\n",
    "from urllib.parse import urlparse\n",
    "\n",
    "counter = {}\n",
    "\n",
    "exclude = []\n",
    "\n",
    "COUNT_LIMIT = 10\n",
    "\n",
    "\n",
    "for url in urls:\n",
    "    host = urlparse(url).netloc\n",
    "    if host not in counter:\n",
    "        counter[host] = 0\n",
    "    counter[host] += 1\n",
    "\n",
    "del urls\n",
    "\n",
    "import pandas as pd\n",
    "import plotly.express as px\n",
    "\n",
    "def display_result():\n",
    "    df = pd.DataFrame(columns=['Адреса','Количество'])\n",
    "    for i, key in enumerate(counter):\n",
    "        value = counter[key]\n",
    "        bookmark_row = {'Адреса': key, 'Количество': value}\n",
    "        if value > COUNT_LIMIT and key not in exclude:\n",
    "            df.loc[i] = [key, value]\n",
    "            \n",
    "    df.sort_values(by=['Количество'], inplace=True, ascending=False)\n",
    "\n",
    "    fig = px.bar(df, x='Адреса', y='Количество')\n",
    "    fig.show()"
   ]
  },
  {
   "cell_type": "code",
   "execution_count": null,
   "metadata": {},
   "outputs": [],
   "source": [
    "display_result()"
   ]
  },
  {
   "cell_type": "markdown",
   "metadata": {},
   "source": [
    "Ну и исключая __habr.com__."
   ]
  },
  {
   "cell_type": "code",
   "execution_count": null,
   "metadata": {
    "scrolled": true
   },
   "outputs": [],
   "source": [
    "exclude.append('habr.com')\n",
    "display_result()"
   ]
  }
 ],
 "metadata": {
  "kernelspec": {
   "display_name": "Python 3 (ipykernel)",
   "language": "python",
   "name": "python3"
  },
  "language_info": {
   "codemirror_mode": {
    "name": "ipython",
    "version": 3
   },
   "file_extension": ".py",
   "mimetype": "text/x-python",
   "name": "python",
   "nbconvert_exporter": "python",
   "pygments_lexer": "ipython3",
   "version": "3.9.7"
  },
  "vscode": {
   "interpreter": {
    "hash": "32dcf48a0bd95ac63839b9c53d0ebb03f91e82aa8cf6ce4857a2df3abfacedec"
   }
  }
 },
 "nbformat": 4,
 "nbformat_minor": 2
}
