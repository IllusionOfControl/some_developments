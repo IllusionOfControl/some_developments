{
 "cells": [
  {
   "cell_type": "markdown",
   "metadata": {},
   "source": [
    "# Книга по изучению алгоритмов и структур данных"
   ]
  },
  {
   "cell_type": "markdown",
   "metadata": {},
   "source": [
    "### Бинарный поиск"
   ]
  },
  {
   "cell_type": "code",
   "execution_count": null,
   "metadata": {},
   "outputs": [],
   "source": [
    "array = [x for x in range(1, 101)]\n",
    "\n",
    "def binary_search(array, query):\n",
    "    low = 0\n",
    "    high = len(array) - 1\n",
    "    \n",
    "    while True:\n",
    "        index = int((high - low) / 2 + low)\n",
    "        guess = array[index]\n",
    "        if guess == query:\n",
    "            return index\n",
    "        if index == low:\n",
    "            return None\n",
    "        if guess > query:\n",
    "            high = index\n",
    "        elif array[index] < query:\n",
    "            low = index\n",
    "            \n",
    "print(binary_search(array, 1))\n",
    "print(binary_search(array, 20))"
   ]
  },
  {
   "cell_type": "markdown",
   "metadata": {},
   "source": [
    "### Сортировка выбором"
   ]
  },
  {
   "cell_type": "code",
   "execution_count": null,
   "metadata": {},
   "outputs": [],
   "source": [
    "import random\n",
    "\n",
    "array = random.sample(range(0, 101), 100)\n",
    "\n",
    "def selection_sort(array):\n",
    "    min_index, max_index = 0, 0\n",
    "    for i in range(len(array) - 1):\n",
    "        min_index = i\n",
    "        for j in range(i + 1, len(array) - 1):\n",
    "            if array[min_index] > array[j]:\n",
    "                min_index = j\n",
    "        if min_index != i:\n",
    "            array[min_index], array[i] = array[i], array[min_index]\n",
    "\n",
    "            \n",
    "selection_sort(array)\n",
    "print(array)"
   ]
  },
  {
   "cell_type": "markdown",
   "metadata": {},
   "source": [
    "### Сортировка пузырьком"
   ]
  },
  {
   "cell_type": "code",
   "execution_count": null,
   "metadata": {},
   "outputs": [],
   "source": [
    "import random\n",
    "\n",
    "array = random.sample(range(0, 101), 100)\n",
    "\n",
    "def bubble_sort(array):\n",
    "    swapped = True\n",
    "    while swapped:\n",
    "        swapped = False\n",
    "        for i in range(len(array) - 1):\n",
    "            if array[i] > array[i + 1]:\n",
    "                array[i + 1], array[i] = array[i], array[i + 1]\n",
    "                swapped = True\n",
    "\n",
    "            \n",
    "bubble_sort(array)\n",
    "print(array)"
   ]
  },
  {
   "cell_type": "markdown",
   "metadata": {},
   "source": [
    "### Сортировка вставками"
   ]
  },
  {
   "cell_type": "code",
   "execution_count": null,
   "metadata": {},
   "outputs": [],
   "source": [
    "import random\n",
    "\n",
    "array = [int(random.random() * 100) for x in range(1, 101)]\n",
    "\n",
    "def insertion_sort(array):\n",
    "    for i in range(1, len(array)):\n",
    "        item = array[i]\n",
    "        j = i - 1\n",
    "        while j >= 0 and array[j] > item:\n",
    "            array[j+1] = array[j]\n",
    "            j -= 1\n",
    "        array[j+1] = item\n",
    "\n",
    "\n",
    "insertion_sort(array)\n",
    "print(array)"
   ]
  },
  {
   "cell_type": "markdown",
   "metadata": {},
   "source": [
    "### Связаный список\n",
    "\n",
    "делался одностороннего типа"
   ]
  },
  {
   "cell_type": "code",
   "execution_count": null,
   "metadata": {},
   "outputs": [],
   "source": [
    "class Node:\n",
    "    def __init__(self, obj, next_node = None):\n",
    "        self.object = obj\n",
    "        self._next_node = next_node\n",
    "    \n",
    "    def set_next(self, next_node):\n",
    "        self._next_node = next_node\n",
    "\n",
    "    def get_next(self):\n",
    "        return self._next_node\n",
    "    \n",
    "\n",
    "class LinkedList:\n",
    "    def __init__(self):\n",
    "        self.head = None\n",
    "        self.lenght = 0\n",
    "        \n",
    "    def add_node(self, obj):\n",
    "        new_node = Node(obj)\n",
    "        new_node.set_next(self.head)\n",
    "        self.head = new_node\n",
    "        self.lenght += 1\n",
    "    \n",
    "    def search_node(self, obj):\n",
    "        current = self.head\n",
    "        while current:\n",
    "            if current.object == obj:\n",
    "                return current\n",
    "            current = current.get_next()\n",
    "        raise ValueError(\"Not found\")\n",
    "        \n",
    "    def delete_node(self, obj):\n",
    "        current_node = self.head\n",
    "        prev_node = None\n",
    "        while current_node:\n",
    "            if current_node.object == obj:\n",
    "                if prev_node is None:\n",
    "                    self.head = current_node.get_next()\n",
    "                else:\n",
    "                    prev_node.set_next(current_node.get_next())\n",
    "                del(current_node)\n",
    "                self.lenght -= 1\n",
    "                return\n",
    "            else:\n",
    "                prev_node = current_node\n",
    "                current_node = current_node.get_next()\n",
    "        else:\n",
    "            raise ValueError(\"Not found\")\n",
    "        \n",
    "    def size(self):\n",
    "        return self.lenght"
   ]
  },
  {
   "cell_type": "markdown",
   "metadata": {},
   "source": [
    "пример работы с ним"
   ]
  },
  {
   "cell_type": "code",
   "execution_count": null,
   "metadata": {},
   "outputs": [],
   "source": [
    "ll = LinkedList()\n",
    "\n",
    "ll.add_node(5)\n",
    "ll.add_node(1)\n",
    "ll.add_node(3)\n",
    "ll.add_node(1)\n",
    "ll.add_node(1)\n",
    "ll.add_node(1)\n",
    "ll.add_node(2)\n",
    "\n",
    "ll.search_node(2)\n",
    "\n",
    "ll.delete_node(5)\n",
    "\n",
    "ll.size()"
   ]
  },
  {
   "cell_type": "markdown",
   "metadata": {},
   "source": [
    "### Двоичная куча (сортирующее дерево)"
   ]
  },
  {
   "cell_type": "code",
   "execution_count": null,
   "metadata": {},
   "outputs": [],
   "source": [
    "class BinaryHeap():\n",
    "    def __init__(self, items = None):\n",
    "        self._items = []\n",
    "        if items:\n",
    "            self.buildHeap(items)\n",
    "        \n",
    "    def __repr__(self):\n",
    "        return str(self._items)\n",
    "        \n",
    "    def add(self, value):\n",
    "        self._items.append(value)\n",
    "        n = len(self._items) - 1\n",
    "        parent = int((n - 1) / 2)\n",
    "        while n > 0 and self._items[parent] < self._items[n]:\n",
    "            self._items[parent], self._items[n] = self._items[n], self._items[parent]\n",
    "            n = parent\n",
    "            parent = int((n - 1) / 2)\n",
    "            \n",
    "    def heapify(self, i):\n",
    "        leftChild, rightChild, largestChild = 0, 0, 0\n",
    "        heapSize = len(self._items)\n",
    "        while True:\n",
    "            leftChild = 2 * i + 1\n",
    "            rightChild = 2 * i + 2\n",
    "            \n",
    "            if leftChild < heapSize and self._items[leftChild] > self._items[largestChild]:\n",
    "                largestChild = leftChild\n",
    "                \n",
    "            if rightChild < heapSize and self._items[rightChild] > self._items[largestChild]:\n",
    "                largestChild = rightChild\n",
    "                \n",
    "            if largestChild == i:\n",
    "                break\n",
    "            \n",
    "            self._items[i], self._items[largestChild] = self._items[largestChild], self._items[i]\n",
    "            i = largestChild\n",
    "            \n",
    "            \n",
    "    def buildHeap(self, array):\n",
    "        self._items = array.copy()\n",
    "        for i in range(int(len(self._items) / 2), -1, -1):\n",
    "            self.heapify(i)\n",
    "            \n",
    "    def getMax(self, resort=False):\n",
    "        max_item = self._items[0]\n",
    "        self._items[0] = self._items[len(self._items) - 1]\n",
    "        del self._items[len(self._items) - 1]\n",
    "        if resort:\n",
    "            self.heapify(0)\n",
    "        return max_item"
   ]
  },
  {
   "cell_type": "markdown",
   "metadata": {},
   "source": [
    "Пример работы с ним"
   ]
  },
  {
   "cell_type": "code",
   "execution_count": null,
   "metadata": {},
   "outputs": [],
   "source": [
    "bh = BinaryHeap()\n",
    "\n",
    "bh.add(16)\n",
    "bh.add(5)\n",
    "bh.add(10)\n",
    "bh.add(11)\n",
    "bh.add(9)\n",
    "bh.add(6)\n",
    "bh.add(8)\n",
    "bh.add(4)\n",
    "bh.add(1)\n",
    "bh.add(2)\n",
    "\n",
    "bh.buildHeap([16,20,58,56,3,5,1,99])\n",
    "bh.getMax()"
   ]
  },
  {
   "cell_type": "markdown",
   "metadata": {},
   "source": [
    "### Сортировка кучей (пирамидальная сортировка)"
   ]
  },
  {
   "cell_type": "code",
   "execution_count": null,
   "metadata": {},
   "outputs": [],
   "source": [
    "import random\n",
    "\n",
    "array = random.sample(range(0, 101), 100)\n",
    "\n",
    "def heap_sort(array):\n",
    "    n = len(array)\n",
    "    bh = BinaryHeap(array)\n",
    "    for i in range(n - 1, -1, -1):\n",
    "        array[i] = bh.getMax()\n",
    "        bh.heapify(0)\n",
    "        \n",
    "heap_sort(array)\n",
    "print(array)"
   ]
  },
  {
   "cell_type": "markdown",
   "metadata": {},
   "source": [
    "### Сортировка слиянием"
   ]
  },
  {
   "cell_type": "code",
   "execution_count": null,
   "metadata": {},
   "outputs": [],
   "source": []
  },
  {
   "cell_type": "markdown",
   "metadata": {},
   "source": [
    "### Быстрая сортировка"
   ]
  },
  {
   "cell_type": "code",
   "execution_count": null,
   "metadata": {},
   "outputs": [],
   "source": []
  },
  {
   "cell_type": "markdown",
   "metadata": {},
   "source": [
    "### Сортировка Шелла"
   ]
  },
  {
   "cell_type": "code",
   "execution_count": null,
   "metadata": {},
   "outputs": [],
   "source": [
    "import random\n",
    "\n",
    "array = random.sample(range(0, 101), 100)\n",
    "\n",
    "def shell_sort(array):\n",
    "    last_index = len(array) - 1\n",
    "    step = len(array) // 2\n",
    "    while step > 0:\n",
    "        for i in range(step, last_index + 1, 1):\n",
    "            j = i\n",
    "            delta = j - step\n",
    "            while delta >= 0 and array[delta] > array[j]:\n",
    "                array[delta], array[j] = array[j], array[delta]\n",
    "                j = delta\n",
    "                delta = j - step\n",
    "        step //= 2\n",
    "    return array\n",
    "        \n",
    "shell_sort(array)\n",
    "print(array)"
   ]
  },
  {
   "cell_type": "markdown",
   "metadata": {},
   "source": [
    "### Рекурсивный спуск"
   ]
  },
  {
   "cell_type": "code",
   "execution_count": null,
   "metadata": {},
   "outputs": [],
   "source": [
    "class RecursiveDescentParser:\n",
    "    tokens = \"\"\n",
    "    pos = 0\n",
    "    \n",
    "    def __init__(self, tokens):\n",
    "        self.tokens = tokens\n",
    "        \n",
    "    def parse(self):\n",
    "        result = self.expression()\n",
    "        if self.pos != len(self.tokens):\n",
    "            raise ValueError(\"Error in expression at\")\n",
    "        return result    \n",
    "    \n",
    "    def expression(self):\n",
    "        first = self.term()\n",
    "        \n",
    "        while self.pos < len(self.tokens):\n",
    "            operator = self.tokens[self.pos]\n",
    "            if operator != '+' and not operator != '-':\n",
    "                break\n",
    "            else:\n",
    "                self.pos += 1\n",
    "                \n",
    "            second = self.term()\n",
    "            if operator == '+':\n",
    "                first += second\n",
    "            else:\n",
    "                first -= second\n",
    "                \n",
    "        return first\n",
    "            \n",
    "    \n",
    "    def term(self):\n",
    "        first = self.factor()\n",
    "        \n",
    "        while self.pos < len(self.tokens):\n",
    "            operator = self.tokens[self.pos]\n",
    "            if operator != '*' and operator != '/':\n",
    "                break\n",
    "            else:\n",
    "                self.pos += 1\n",
    "                \n",
    "            second = int(self.tokens[self.pos])\n",
    "            if operator == '*':\n",
    "                first *= second\n",
    "            else:\n",
    "                first /= second\n",
    "                \n",
    "        return first\n",
    "    \n",
    "    def factor(self):\n",
    "        next_token = self.tokens[self.pos]\n",
    "        result = None\n",
    "        \n",
    "        if (next_token == '('):\n",
    "            self.pos += 1\n",
    "            result = self.expression()\n",
    "            closing_bracket = self.tokens.get(self.pos, None)\n",
    "            if not closing_bracket:\n",
    "                raise ValueError('Unexpected end of expression')\n",
    "            if pos < len(self.tokens) and closing_bracket == ')':\n",
    "                self.pos += 1\n",
    "                return result\n",
    "            raise ValueError('\")\" expected but {}'.format(closing_bracket))\n",
    "        self.pos += 1\n",
    "        return int(next_token)"
   ]
  },
  {
   "cell_type": "code",
   "execution_count": null,
   "metadata": {},
   "outputs": [],
   "source": [
    "parser = RecursiveDescentParser('11')\n",
    "parser.parse()"
   ]
  },
  {
   "cell_type": "code",
   "execution_count": null,
   "metadata": {},
   "outputs": [],
   "source": []
  },
  {
   "cell_type": "code",
   "execution_count": null,
   "metadata": {},
   "outputs": [],
   "source": [
    "class RecursiveDescentParser:\n",
    "    tokens_size = 0\n",
    "    last_index = 0\n",
    "\n",
    "    def __init__(self, tokens):\n",
    "        self.tokens_size = len(tokens)\n",
    "        self.iteration = enumerate(tokens)\n",
    "        \n",
    "        \n",
    "    def _getNext(self):\n",
    "        self.last_index, value = next(self.iteration)\n",
    "        return value\n",
    "    \n",
    "    def _isEnd(self):\n",
    "        return self.last_index == (self.tokens_size - 1)\n",
    "        \n",
    "    def parse(self):\n",
    "        result, _ = self.expression()\n",
    "        if not self._isEnd():\n",
    "            raise ValueError(\"Error in expression at\")\n",
    "        return result    \n",
    "    \n",
    "    def expression(self):\n",
    "        first, operator = self.term()\n",
    "        print(first)\n",
    "        \n",
    "        while not self._isEnd():\n",
    "            operator = operator or self._getNext()\n",
    "            if operator != '+' and operator != '-':\n",
    "                if operator.isdigit():\n",
    "                    first += first * 10 + int(operator)\n",
    "                    continue\n",
    "                return first, operator\n",
    "                \n",
    "            second, _ = self.term()\n",
    "            if operator == '+':\n",
    "                first += second\n",
    "            else:\n",
    "                first -= second\n",
    "                \n",
    "        return first, None\n",
    "            \n",
    "    \n",
    "    def term(self):\n",
    "        first, operator = self.factor()\n",
    "        print(first)\n",
    "        \n",
    "        while not self._isEnd():\n",
    "            operator = operator or self._getNext()\n",
    "            if operator != '*' and operator != '/':\n",
    "                if operator.isdigit():\n",
    "                    first += first * 10 + int(operator)\n",
    "                    continue\n",
    "                return first, operator\n",
    "                \n",
    "            second = int(self._getNext())\n",
    "            \n",
    "            if operator == '*':\n",
    "                first *= second\n",
    "            else:\n",
    "                first /= second\n",
    "                \n",
    "        return first, None\n",
    "    \n",
    "    def factor(self):\n",
    "        next_token = self._getNext()\n",
    "        result = 0\n",
    "        \n",
    "        if (next_token == '('):\n",
    "            result, operator = self.expression()\n",
    "            closing_bracket = operator or self._getNext()\n",
    "            if not self._isEnd() and closing_bracket == ')':\n",
    "                return result\n",
    "            raise ValueError('\")\" expected but {}'.format(closing_bracket))\n",
    "        return int(next_token), None"
   ]
  },
  {
   "cell_type": "code",
   "execution_count": null,
   "metadata": {},
   "outputs": [],
   "source": [
    "parser = RecursiveDescentParser('10')\n",
    "parser.parse()"
   ]
  },
  {
   "cell_type": "code",
   "execution_count": null,
   "metadata": {},
   "outputs": [],
   "source": [
    "a = enumerate('10')\n",
    "next(a)\n",
    "next(a)"
   ]
  },
  {
   "cell_type": "code",
   "execution_count": null,
   "metadata": {},
   "outputs": [],
   "source": [
    "def foo():\n",
    "    return None\n",
    "\n",
    "a = foo() or 'aaa'"
   ]
  },
  {
   "cell_type": "code",
   "execution_count": null,
   "metadata": {},
   "outputs": [],
   "source": [
    "a"
   ]
  },
  {
   "cell_type": "code",
   "execution_count": null,
   "metadata": {},
   "outputs": [],
   "source": []
  }
 ],
 "metadata": {
  "kernelspec": {
   "display_name": "Python 3 (ipykernel)",
   "language": "python",
   "name": "python3"
  },
  "language_info": {
   "codemirror_mode": {
    "name": "ipython",
    "version": 3
   },
   "file_extension": ".py",
   "mimetype": "text/x-python",
   "name": "python",
   "nbconvert_exporter": "python",
   "pygments_lexer": "ipython3",
   "version": "3.9.7"
  }
 },
 "nbformat": 4,
 "nbformat_minor": 2
}
