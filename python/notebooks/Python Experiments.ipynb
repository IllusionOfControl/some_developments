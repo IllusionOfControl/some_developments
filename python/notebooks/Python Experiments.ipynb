{
 "cells": [
  {
   "cell_type": "code",
   "execution_count": 3,
   "metadata": {
    "scrolled": true
   },
   "outputs": [
    {
     "name": "stdout",
     "output_type": "stream",
     "text": [
      "Total time: 0.0009937286376953125\n"
     ]
    },
    {
     "name": "stdout",
     "output_type": "stream",
     "text": [
      "Task A: Compute factorial(2)\n",
      "SLEEP 2023-02-26 14:35:57.740231\n",
      "\n",
      "Task B: Compute factorial(2)\n",
      "SLEEP 2023-02-26 14:35:57.740231\n",
      "\n",
      "Task A: Compute factorial(3)\n",
      "SLEEP 2023-02-26 14:35:58.751072\n",
      "\n",
      "Task B: Compute factorial(3)\n",
      "SLEEP 2023-02-26 14:35:58.751072\n",
      "\n",
      "Task A: factorial(3) is 6\n",
      "\n",
      "Task B: Compute factorial(4)\n",
      "SLEEP 2023-02-26 14:35:59.753418\n",
      "\n",
      "Task B: factorial(4) is 24\n",
      "\n"
     ]
    }
   ],
   "source": [
    "import asyncio  \n",
    "import time  \n",
    "from datetime import datetime\n",
    "\n",
    "async def custom_sleep():  \n",
    "    print('SLEEP {}\\n'.format(datetime.now()))\n",
    "    await asyncio.sleep(1)\n",
    "\n",
    "async def factorial(name, number):  \n",
    "    f = 1\n",
    "    for i in range(2, number+1):\n",
    "        print('Task {}: Compute factorial({})'.format(name, i))\n",
    "        await custom_sleep()\n",
    "        f *= i\n",
    "    print('Task {}: factorial({}) is {}\\n'.format(name, number, f))\n",
    "\n",
    "start = time.time()  \n",
    "loop = asyncio.get_event_loop()\n",
    "tasks = [  \n",
    "    asyncio.ensure_future(factorial(\"A\", 3)),\n",
    "    asyncio.ensure_future(factorial(\"B\", 4)),\n",
    "]\n",
    "# loop.run_until_complete(asyncio.wait(tasks))  \n",
    "# loop.close()\n",
    "end = time.time()  \n",
    "print(\"Total time: {}\".format(end - start))"
   ]
  },
  {
   "cell_type": "code",
   "execution_count": 4,
   "metadata": {},
   "outputs": [
    {
     "name": "stdout",
     "output_type": "stream",
     "text": [
      "Sleeping_3\n",
      "Sleeping_5\n",
      "GM_3\n",
      "GM_5\n",
      "asdads\n"
     ]
    }
   ],
   "source": [
    "import asyncio\n",
    "\n",
    "async def sleep_5():\n",
    "    print('Sleeping_5')\n",
    "    await asyncio.sleep(5)\n",
    "    print('GM_5')\n",
    "    \n",
    "async def sleep_3():\n",
    "    print('Sleeping_3')\n",
    "    await asyncio.sleep(3)\n",
    "    print('GM_3')\n",
    "    \n",
    "    \n",
    "loop = asyncio.get_event_loop()\n",
    "await asyncio.gather(sleep_3(), sleep_5())\n",
    "print('asdads')"
   ]
  },
  {
   "cell_type": "markdown",
   "metadata": {},
   "source": [
    "# Python Basics"
   ]
  },
  {
   "cell_type": "code",
   "execution_count": 1,
   "metadata": {},
   "outputs": [
    {
     "name": "stdout",
     "output_type": "stream",
     "text": [
      "3\n"
     ]
    }
   ],
   "source": [
    "l = lambda x, y: print(x * y)\n",
    "l(1,3)"
   ]
  },
  {
   "cell_type": "code",
   "execution_count": 9,
   "metadata": {},
   "outputs": [
    {
     "data": {
      "text/plain": [
       "[(1, 2), (2, 6), (3, 4), (10, 8)]"
      ]
     },
     "execution_count": 9,
     "metadata": {},
     "output_type": "execute_result"
    }
   ],
   "source": [
    "a = [(10,8), (1,2), (3,4), (2,6)]\n",
    "a.sort(key=lambda x: x[0])\n",
    "a"
   ]
  },
  {
   "cell_type": "code",
   "execution_count": 43,
   "metadata": {},
   "outputs": [],
   "source": [
    "list1 = [5, 88, 12]\n",
    "list2 = [6,9,8]\n",
    "data = list(zip(list1, list2))\n",
    "data.sort()\n",
    "list1, list2 = map(lambda t: list(t), zip(*data))"
   ]
  },
  {
   "cell_type": "code",
   "execution_count": 42,
   "metadata": {},
   "outputs": [
    {
     "name": "stdout",
     "output_type": "stream",
     "text": [
      "[17, 5, 5]\n"
     ]
    }
   ],
   "source": [
    "list3 = ('apple aple appple', 'cyber', 'quakc')\n",
    "\n",
    "def do_smth(n):\n",
    "    return len(n)\n",
    "\n",
    "x = list(map(do_smth, list3))\n",
    "print(x)"
   ]
  },
  {
   "cell_type": "code",
   "execution_count": 34,
   "metadata": {},
   "outputs": [
    {
     "data": {
      "text/plain": [
       "{'name': 'Yasoob',\n",
       " 'age': 'undefined',\n",
       " 'personality': 'awesome',\n",
       " 'mood': 'hungry'}"
      ]
     },
     "execution_count": 34,
     "metadata": {},
     "output_type": "execute_result"
    }
   ],
   "source": [
    "from pprint import pprint\n",
    "my_dict = {'name': 'Yasoob', 'age': 'undefined', 'personality': 'awesome', 'mood':'hungry'}"
   ]
  },
  {
   "cell_type": "code",
   "execution_count": 37,
   "metadata": {},
   "outputs": [
    {
     "ename": "AttributeError",
     "evalue": "module 'json' has no attribute 'tool'",
     "output_type": "error",
     "traceback": [
      "\u001b[1;31m---------------------------------------------------------------------------\u001b[0m",
      "\u001b[1;31mAttributeError\u001b[0m                            Traceback (most recent call last)",
      "\u001b[1;32m<ipython-input-37-f0a5e0d89958>\u001b[0m in \u001b[0;36m<module>\u001b[1;34m\u001b[0m\n\u001b[0;32m      1\u001b[0m \u001b[1;32mimport\u001b[0m \u001b[0mjson\u001b[0m\u001b[1;33m\u001b[0m\u001b[1;33m\u001b[0m\u001b[0m\n\u001b[1;32m----> 2\u001b[1;33m \u001b[0mjson\u001b[0m\u001b[1;33m.\u001b[0m\u001b[0mtool\u001b[0m\u001b[1;33m\u001b[0m\u001b[1;33m\u001b[0m\u001b[0m\n\u001b[0m",
      "\u001b[1;31mAttributeError\u001b[0m: module 'json' has no attribute 'tool'"
     ]
    }
   ],
   "source": [
    "from functools import lru_cache"
   ]
  },
  {
   "cell_type": "markdown",
   "metadata": {},
   "source": [
    "# Context managers"
   ]
  },
  {
   "cell_type": "code",
   "execution_count": null,
   "metadata": {},
   "outputs": [],
   "source": [
    "class File(object):\n",
    "    def __init__(self, file_name, method):\n",
    "        self.file_obj = open(file_name, method)\n",
    "        \n",
    "    def __enter__(self):\n",
    "        return self.file_obj\n",
    "    \n",
    "    def __exit__(self, type, value, traceback):\n",
    "        print(\"Exception was handled\")\n",
    "        self.file_obj.close()\n",
    "        return True\n",
    "    \n",
    "with File('some_file', 'w') as f:\n",
    "    f.write('hola!')"
   ]
  },
  {
   "cell_type": "code",
   "execution_count": 41,
   "metadata": {},
   "outputs": [],
   "source": [
    "from contextlib import contextmanager\n",
    "\n",
    "@contextmanager\n",
    "def open_file(name):\n",
    "    f = open(name, 'w')\n",
    "    yield f\n",
    "    f.close()\n",
    "    \n",
    "with open_file('some_file') as f:\n",
    "    f.write('hola!')"
   ]
  },
  {
   "cell_type": "markdown",
   "metadata": {},
   "source": [
    "# Serialize"
   ]
  },
  {
   "cell_type": "code",
   "execution_count": 10,
   "metadata": {},
   "outputs": [
    {
     "name": "stdout",
     "output_type": "stream",
     "text": [
      "{'name': 'just note', 'description': 'some desq'}\n",
      "{'name': 'another note', 'description': 'note from json'}\n",
      "{'name': 'yet another note', 'description': 'from dict'}\n"
     ]
    }
   ],
   "source": [
    "from marshmallow import Schema, fields\n",
    "\n",
    "class Note:\n",
    "    def __init__(self, name, description):\n",
    "        self.name = name\n",
    "        self.description = description\n",
    "        \n",
    "        def __repr__(self):\n",
    "            return \"<User(name={self.name!r})>\".format(self=self)\n",
    "            \n",
    "class NoteSchema(Schema):\n",
    "    name = fields.Str()\n",
    "    description = fields.Str()\n",
    "    \n",
    "note = Note(name=\"just note\", description=\"some desq\")\n",
    "schema = NoteSchema()\n",
    "result = schema.dump(note)\n",
    "print(result)\n",
    "\n",
    "json = '{\"name\":\"another note\", \"description\":\"note from json\"}'\n",
    "result = schema.loads(json)\n",
    "print(result)\n",
    "\n",
    "result = schema.load({'name': 'yet another note', 'description': 'from dict'})\n",
    "print(result)"
   ]
  },
  {
   "cell_type": "code",
   "execution_count": 14,
   "metadata": {},
   "outputs": [
    {
     "name": "stdout",
     "output_type": "stream",
     "text": [
      "{'name': 'Chuck Paluhniuk', 'id': 1}\n",
      "<Author(name='Chuck Paluhniuk')>\n"
     ]
    }
   ],
   "source": [
    "import sqlalchemy as sa\n",
    "from sqlalchemy.ext.declarative import declarative_base\n",
    "from sqlalchemy.orm import scoped_session, sessionmaker, relationship, backref\n",
    "\n",
    "\n",
    "engine = sa.create_engine(\"sqlite:///:memory:\")\n",
    "session = scoped_session(sessionmaker(bind=engine))\n",
    "Base = declarative_base()\n",
    "\n",
    "\n",
    "class Author(Base):\n",
    "    __tablename__ = \"authors\"\n",
    "    id = sa.Column(sa.Integer, primary_key=True)\n",
    "    name = sa.Column(sa.String, nullable=False)\n",
    "\n",
    "    def __repr__(self):\n",
    "        return \"<Author(name={self.name!r})>\".format(self=self)\n",
    "\n",
    "\n",
    "class Book(Base):\n",
    "    __tablename__ = \"books\"\n",
    "    id = sa.Column(sa.Integer, primary_key=True)\n",
    "    title = sa.Column(sa.String)\n",
    "    author_id = sa.Column(sa.Integer, sa.ForeignKey(\"authors.id\"))\n",
    "    author = relationship(\"Author\", backref=backref(\"books\"))\n",
    "\n",
    "\n",
    "Base.metadata.create_all(engine)\n",
    "\n",
    "from marshmallow_sqlalchemy import SQLAlchemySchema, auto_field\n",
    "\n",
    "\n",
    "class AuthorSchema(SQLAlchemySchema):\n",
    "    class Meta:\n",
    "        model = Author\n",
    "        load_instance = True  # Optional: deserialize to model instances\n",
    "\n",
    "    id = auto_field()\n",
    "    name = auto_field()\n",
    "\n",
    "\n",
    "class BookSchema(SQLAlchemySchema):\n",
    "    class Meta:\n",
    "        model = Book\n",
    "        load_instance = True\n",
    "\n",
    "    id = auto_field()\n",
    "    title = auto_field()\n",
    "    \n",
    "author = Author(name=\"Chuck Paluhniuk\")\n",
    "author_schema = AuthorSchema()\n",
    "book = Book(title=\"Fight Club\", author=author)\n",
    "session.add(author)\n",
    "session.add(book)\n",
    "session.commit()\n",
    "\n",
    "dump_data = author_schema.dump(author)\n",
    "print(dump_data)\n",
    "# {'id': 1, 'name': 'Chuck Paluhniuk', 'books': [1]}\n",
    "\n",
    "load_data = author_schema.load(dump_data, session=session)\n",
    "print(load_data)\n",
    "# <Author(name='Chuck Paluhniuk')>"
   ]
  },
  {
   "cell_type": "markdown",
   "metadata": {},
   "source": [
    "# Plotly"
   ]
  },
  {
   "cell_type": "code",
   "execution_count": 4,
   "metadata": {},
   "outputs": [
    {
     "name": "stderr",
     "output_type": "stream",
     "text": [
      "Exception ignored in: <coroutine object wait at 0x00000221A431BC40>\n",
      "Traceback (most recent call last):\n",
      "  File \"<string>\", line 1, in <lambda>\n",
      "KeyError: '__import__'\n",
      "Exception ignored in: <coroutine object wait at 0x00000221A431BC40>\n",
      "Traceback (most recent call last):\n",
      "  File \"<string>\", line 1, in <lambda>\n",
      "KeyError: '__import__'\n"
     ]
    },
    {
     "data": {
      "application/vnd.plotly.v1+json": {
       "config": {
        "plotlyServerURL": "https://plot.ly"
       },
       "data": [
        {
         "alignmentgroup": "True",
         "hovertemplate": "address=%{x}<br>count=%{y}<extra></extra>",
         "legendgroup": "",
         "marker": {
          "color": "#636efa",
          "pattern": {
           "shape": ""
          }
         },
         "name": "",
         "offsetgroup": "",
         "orientation": "v",
         "showlegend": false,
         "textposition": "auto",
         "type": "bar",
         "x": [
          "www.youtube.com",
          "tproger.ru",
          "proglib.io",
          "mangalib.me",
          "www.deviantart.com",
          "vk.com",
          "twitter.com",
          "www.artstation.com",
          "habr.com",
          "medium.com",
          "habrahabr.ru",
          "m.habr.com",
          "www.reddit.com",
          "yummyanime.club",
          "www.pixiv.net",
          "www.twitch.tv",
          "hakin9.org",
          "www.hackingarticles.in",
          "github.com",
          "codepen.io",
          "labs.sentinelone.com",
          "en.iguru.gr",
          "secnhack.in"
         ],
         "xaxis": "x",
         "y": [
          72,
          68,
          53,
          38,
          134,
          66,
          48,
          82,
          3895,
          12,
          86,
          39,
          24,
          17,
          395,
          16,
          16,
          39,
          412,
          26,
          12,
          11,
          22
         ],
         "yaxis": "y"
        }
       ],
       "layout": {
        "barmode": "relative",
        "legend": {
         "tracegroupgap": 0
        },
        "margin": {
         "t": 60
        },
        "template": {
         "data": {
          "bar": [
           {
            "error_x": {
             "color": "#2a3f5f"
            },
            "error_y": {
             "color": "#2a3f5f"
            },
            "marker": {
             "line": {
              "color": "#E5ECF6",
              "width": 0.5
             },
             "pattern": {
              "fillmode": "overlay",
              "size": 10,
              "solidity": 0.2
             }
            },
            "type": "bar"
           }
          ],
          "barpolar": [
           {
            "marker": {
             "line": {
              "color": "#E5ECF6",
              "width": 0.5
             },
             "pattern": {
              "fillmode": "overlay",
              "size": 10,
              "solidity": 0.2
             }
            },
            "type": "barpolar"
           }
          ],
          "carpet": [
           {
            "aaxis": {
             "endlinecolor": "#2a3f5f",
             "gridcolor": "white",
             "linecolor": "white",
             "minorgridcolor": "white",
             "startlinecolor": "#2a3f5f"
            },
            "baxis": {
             "endlinecolor": "#2a3f5f",
             "gridcolor": "white",
             "linecolor": "white",
             "minorgridcolor": "white",
             "startlinecolor": "#2a3f5f"
            },
            "type": "carpet"
           }
          ],
          "choropleth": [
           {
            "colorbar": {
             "outlinewidth": 0,
             "ticks": ""
            },
            "type": "choropleth"
           }
          ],
          "contour": [
           {
            "colorbar": {
             "outlinewidth": 0,
             "ticks": ""
            },
            "colorscale": [
             [
              0,
              "#0d0887"
             ],
             [
              0.1111111111111111,
              "#46039f"
             ],
             [
              0.2222222222222222,
              "#7201a8"
             ],
             [
              0.3333333333333333,
              "#9c179e"
             ],
             [
              0.4444444444444444,
              "#bd3786"
             ],
             [
              0.5555555555555556,
              "#d8576b"
             ],
             [
              0.6666666666666666,
              "#ed7953"
             ],
             [
              0.7777777777777778,
              "#fb9f3a"
             ],
             [
              0.8888888888888888,
              "#fdca26"
             ],
             [
              1,
              "#f0f921"
             ]
            ],
            "type": "contour"
           }
          ],
          "contourcarpet": [
           {
            "colorbar": {
             "outlinewidth": 0,
             "ticks": ""
            },
            "type": "contourcarpet"
           }
          ],
          "heatmap": [
           {
            "colorbar": {
             "outlinewidth": 0,
             "ticks": ""
            },
            "colorscale": [
             [
              0,
              "#0d0887"
             ],
             [
              0.1111111111111111,
              "#46039f"
             ],
             [
              0.2222222222222222,
              "#7201a8"
             ],
             [
              0.3333333333333333,
              "#9c179e"
             ],
             [
              0.4444444444444444,
              "#bd3786"
             ],
             [
              0.5555555555555556,
              "#d8576b"
             ],
             [
              0.6666666666666666,
              "#ed7953"
             ],
             [
              0.7777777777777778,
              "#fb9f3a"
             ],
             [
              0.8888888888888888,
              "#fdca26"
             ],
             [
              1,
              "#f0f921"
             ]
            ],
            "type": "heatmap"
           }
          ],
          "heatmapgl": [
           {
            "colorbar": {
             "outlinewidth": 0,
             "ticks": ""
            },
            "colorscale": [
             [
              0,
              "#0d0887"
             ],
             [
              0.1111111111111111,
              "#46039f"
             ],
             [
              0.2222222222222222,
              "#7201a8"
             ],
             [
              0.3333333333333333,
              "#9c179e"
             ],
             [
              0.4444444444444444,
              "#bd3786"
             ],
             [
              0.5555555555555556,
              "#d8576b"
             ],
             [
              0.6666666666666666,
              "#ed7953"
             ],
             [
              0.7777777777777778,
              "#fb9f3a"
             ],
             [
              0.8888888888888888,
              "#fdca26"
             ],
             [
              1,
              "#f0f921"
             ]
            ],
            "type": "heatmapgl"
           }
          ],
          "histogram": [
           {
            "marker": {
             "pattern": {
              "fillmode": "overlay",
              "size": 10,
              "solidity": 0.2
             }
            },
            "type": "histogram"
           }
          ],
          "histogram2d": [
           {
            "colorbar": {
             "outlinewidth": 0,
             "ticks": ""
            },
            "colorscale": [
             [
              0,
              "#0d0887"
             ],
             [
              0.1111111111111111,
              "#46039f"
             ],
             [
              0.2222222222222222,
              "#7201a8"
             ],
             [
              0.3333333333333333,
              "#9c179e"
             ],
             [
              0.4444444444444444,
              "#bd3786"
             ],
             [
              0.5555555555555556,
              "#d8576b"
             ],
             [
              0.6666666666666666,
              "#ed7953"
             ],
             [
              0.7777777777777778,
              "#fb9f3a"
             ],
             [
              0.8888888888888888,
              "#fdca26"
             ],
             [
              1,
              "#f0f921"
             ]
            ],
            "type": "histogram2d"
           }
          ],
          "histogram2dcontour": [
           {
            "colorbar": {
             "outlinewidth": 0,
             "ticks": ""
            },
            "colorscale": [
             [
              0,
              "#0d0887"
             ],
             [
              0.1111111111111111,
              "#46039f"
             ],
             [
              0.2222222222222222,
              "#7201a8"
             ],
             [
              0.3333333333333333,
              "#9c179e"
             ],
             [
              0.4444444444444444,
              "#bd3786"
             ],
             [
              0.5555555555555556,
              "#d8576b"
             ],
             [
              0.6666666666666666,
              "#ed7953"
             ],
             [
              0.7777777777777778,
              "#fb9f3a"
             ],
             [
              0.8888888888888888,
              "#fdca26"
             ],
             [
              1,
              "#f0f921"
             ]
            ],
            "type": "histogram2dcontour"
           }
          ],
          "mesh3d": [
           {
            "colorbar": {
             "outlinewidth": 0,
             "ticks": ""
            },
            "type": "mesh3d"
           }
          ],
          "parcoords": [
           {
            "line": {
             "colorbar": {
              "outlinewidth": 0,
              "ticks": ""
             }
            },
            "type": "parcoords"
           }
          ],
          "pie": [
           {
            "automargin": true,
            "type": "pie"
           }
          ],
          "scatter": [
           {
            "marker": {
             "colorbar": {
              "outlinewidth": 0,
              "ticks": ""
             }
            },
            "type": "scatter"
           }
          ],
          "scatter3d": [
           {
            "line": {
             "colorbar": {
              "outlinewidth": 0,
              "ticks": ""
             }
            },
            "marker": {
             "colorbar": {
              "outlinewidth": 0,
              "ticks": ""
             }
            },
            "type": "scatter3d"
           }
          ],
          "scattercarpet": [
           {
            "marker": {
             "colorbar": {
              "outlinewidth": 0,
              "ticks": ""
             }
            },
            "type": "scattercarpet"
           }
          ],
          "scattergeo": [
           {
            "marker": {
             "colorbar": {
              "outlinewidth": 0,
              "ticks": ""
             }
            },
            "type": "scattergeo"
           }
          ],
          "scattergl": [
           {
            "marker": {
             "colorbar": {
              "outlinewidth": 0,
              "ticks": ""
             }
            },
            "type": "scattergl"
           }
          ],
          "scattermapbox": [
           {
            "marker": {
             "colorbar": {
              "outlinewidth": 0,
              "ticks": ""
             }
            },
            "type": "scattermapbox"
           }
          ],
          "scatterpolar": [
           {
            "marker": {
             "colorbar": {
              "outlinewidth": 0,
              "ticks": ""
             }
            },
            "type": "scatterpolar"
           }
          ],
          "scatterpolargl": [
           {
            "marker": {
             "colorbar": {
              "outlinewidth": 0,
              "ticks": ""
             }
            },
            "type": "scatterpolargl"
           }
          ],
          "scatterternary": [
           {
            "marker": {
             "colorbar": {
              "outlinewidth": 0,
              "ticks": ""
             }
            },
            "type": "scatterternary"
           }
          ],
          "surface": [
           {
            "colorbar": {
             "outlinewidth": 0,
             "ticks": ""
            },
            "colorscale": [
             [
              0,
              "#0d0887"
             ],
             [
              0.1111111111111111,
              "#46039f"
             ],
             [
              0.2222222222222222,
              "#7201a8"
             ],
             [
              0.3333333333333333,
              "#9c179e"
             ],
             [
              0.4444444444444444,
              "#bd3786"
             ],
             [
              0.5555555555555556,
              "#d8576b"
             ],
             [
              0.6666666666666666,
              "#ed7953"
             ],
             [
              0.7777777777777778,
              "#fb9f3a"
             ],
             [
              0.8888888888888888,
              "#fdca26"
             ],
             [
              1,
              "#f0f921"
             ]
            ],
            "type": "surface"
           }
          ],
          "table": [
           {
            "cells": {
             "fill": {
              "color": "#EBF0F8"
             },
             "line": {
              "color": "white"
             }
            },
            "header": {
             "fill": {
              "color": "#C8D4E3"
             },
             "line": {
              "color": "white"
             }
            },
            "type": "table"
           }
          ]
         },
         "layout": {
          "annotationdefaults": {
           "arrowcolor": "#2a3f5f",
           "arrowhead": 0,
           "arrowwidth": 1
          },
          "autotypenumbers": "strict",
          "coloraxis": {
           "colorbar": {
            "outlinewidth": 0,
            "ticks": ""
           }
          },
          "colorscale": {
           "diverging": [
            [
             0,
             "#8e0152"
            ],
            [
             0.1,
             "#c51b7d"
            ],
            [
             0.2,
             "#de77ae"
            ],
            [
             0.3,
             "#f1b6da"
            ],
            [
             0.4,
             "#fde0ef"
            ],
            [
             0.5,
             "#f7f7f7"
            ],
            [
             0.6,
             "#e6f5d0"
            ],
            [
             0.7,
             "#b8e186"
            ],
            [
             0.8,
             "#7fbc41"
            ],
            [
             0.9,
             "#4d9221"
            ],
            [
             1,
             "#276419"
            ]
           ],
           "sequential": [
            [
             0,
             "#0d0887"
            ],
            [
             0.1111111111111111,
             "#46039f"
            ],
            [
             0.2222222222222222,
             "#7201a8"
            ],
            [
             0.3333333333333333,
             "#9c179e"
            ],
            [
             0.4444444444444444,
             "#bd3786"
            ],
            [
             0.5555555555555556,
             "#d8576b"
            ],
            [
             0.6666666666666666,
             "#ed7953"
            ],
            [
             0.7777777777777778,
             "#fb9f3a"
            ],
            [
             0.8888888888888888,
             "#fdca26"
            ],
            [
             1,
             "#f0f921"
            ]
           ],
           "sequentialminus": [
            [
             0,
             "#0d0887"
            ],
            [
             0.1111111111111111,
             "#46039f"
            ],
            [
             0.2222222222222222,
             "#7201a8"
            ],
            [
             0.3333333333333333,
             "#9c179e"
            ],
            [
             0.4444444444444444,
             "#bd3786"
            ],
            [
             0.5555555555555556,
             "#d8576b"
            ],
            [
             0.6666666666666666,
             "#ed7953"
            ],
            [
             0.7777777777777778,
             "#fb9f3a"
            ],
            [
             0.8888888888888888,
             "#fdca26"
            ],
            [
             1,
             "#f0f921"
            ]
           ]
          },
          "colorway": [
           "#636efa",
           "#EF553B",
           "#00cc96",
           "#ab63fa",
           "#FFA15A",
           "#19d3f3",
           "#FF6692",
           "#B6E880",
           "#FF97FF",
           "#FECB52"
          ],
          "font": {
           "color": "#2a3f5f"
          },
          "geo": {
           "bgcolor": "white",
           "lakecolor": "white",
           "landcolor": "#E5ECF6",
           "showlakes": true,
           "showland": true,
           "subunitcolor": "white"
          },
          "hoverlabel": {
           "align": "left"
          },
          "hovermode": "closest",
          "mapbox": {
           "style": "light"
          },
          "paper_bgcolor": "white",
          "plot_bgcolor": "#E5ECF6",
          "polar": {
           "angularaxis": {
            "gridcolor": "white",
            "linecolor": "white",
            "ticks": ""
           },
           "bgcolor": "#E5ECF6",
           "radialaxis": {
            "gridcolor": "white",
            "linecolor": "white",
            "ticks": ""
           }
          },
          "scene": {
           "xaxis": {
            "backgroundcolor": "#E5ECF6",
            "gridcolor": "white",
            "gridwidth": 2,
            "linecolor": "white",
            "showbackground": true,
            "ticks": "",
            "zerolinecolor": "white"
           },
           "yaxis": {
            "backgroundcolor": "#E5ECF6",
            "gridcolor": "white",
            "gridwidth": 2,
            "linecolor": "white",
            "showbackground": true,
            "ticks": "",
            "zerolinecolor": "white"
           },
           "zaxis": {
            "backgroundcolor": "#E5ECF6",
            "gridcolor": "white",
            "gridwidth": 2,
            "linecolor": "white",
            "showbackground": true,
            "ticks": "",
            "zerolinecolor": "white"
           }
          },
          "shapedefaults": {
           "line": {
            "color": "#2a3f5f"
           }
          },
          "ternary": {
           "aaxis": {
            "gridcolor": "white",
            "linecolor": "white",
            "ticks": ""
           },
           "baxis": {
            "gridcolor": "white",
            "linecolor": "white",
            "ticks": ""
           },
           "bgcolor": "#E5ECF6",
           "caxis": {
            "gridcolor": "white",
            "linecolor": "white",
            "ticks": ""
           }
          },
          "title": {
           "x": 0.05
          },
          "xaxis": {
           "automargin": true,
           "gridcolor": "white",
           "linecolor": "white",
           "ticks": "",
           "title": {
            "standoff": 15
           },
           "zerolinecolor": "white",
           "zerolinewidth": 2
          },
          "yaxis": {
           "automargin": true,
           "gridcolor": "white",
           "linecolor": "white",
           "ticks": "",
           "title": {
            "standoff": 15
           },
           "zerolinecolor": "white",
           "zerolinewidth": 2
          }
         }
        },
        "xaxis": {
         "anchor": "y",
         "domain": [
          0,
          1
         ],
         "title": {
          "text": "address"
         }
        },
        "yaxis": {
         "anchor": "x",
         "domain": [
          0,
          1
         ],
         "title": {
          "text": "count"
         }
        }
       }
      }
     },
     "metadata": {},
     "output_type": "display_data"
    }
   ],
   "source": [
    "JSON_PATH = r\"C:\\Users\\serge\\AppData\\Local\\Google\\Chrome\\User Data\\Default\\Bookmarks\"\n",
    "\n",
    "import json\n",
    "\n",
    "data = None\n",
    "\n",
    "with open(JSON_PATH, 'r', encoding='utf-8') as f:\n",
    "    data = f.read()\n",
    "\n",
    "rdata = json.loads(data)\n",
    "\n",
    "urls=[]\n",
    "\n",
    "def walk(urls, childs):\n",
    "    for child in childs['children']:\n",
    "        if child['type'] == 'url':\n",
    "            urls.append(child['url'])\n",
    "        elif child['type'] == 'folder':\n",
    "            walk(urls, child)\n",
    "\n",
    "for root in rdata['roots']:\n",
    "    for child in rdata['roots'][root]:\n",
    "        walk(urls, rdata['roots'][root])\n",
    "        \n",
    "urls = list(dict.fromkeys(urls))\n",
    "\n",
    "from urllib.parse import urlparse\n",
    "\n",
    "counter = {}\n",
    "EXCLUDE = [\n",
    "    #'habr.com'\n",
    "]\n",
    "COUNT_LIMIT = 10\n",
    "\n",
    "\n",
    "for url in urls:\n",
    "    host = urlparse(url).netloc\n",
    "#     host = host.split('.')[-1]\n",
    "    if host not in counter:\n",
    "        counter[host] = 0\n",
    "    counter[host] += 1\n",
    "\n",
    "import pandas as pd\n",
    "\n",
    "df = pd.DataFrame(columns=['address','count'])\n",
    "for i, key in enumerate(counter):\n",
    "    value = counter[key]\n",
    "    if value > COUNT_LIMIT and key not in EXCLUDE:\n",
    "        df.loc[i] = [key, value]\n",
    "\n",
    "import plotly.express as px\n",
    "fig = px.bar(df, x='address', y='count')\n",
    "fig.show()"
   ]
  },
  {
   "cell_type": "markdown",
   "metadata": {},
   "source": [
    "# Google note position"
   ]
  },
  {
   "cell_type": "code",
   "execution_count": 17,
   "metadata": {},
   "outputs": [],
   "source": [
    "def print_format(num):\n",
    "    formated = format(num, '#064b')\n",
    "    print(str(formated) + '  |  ' + str(num))\n",
    "\n",
    "def print_format_list(num_list):\n",
    "    for i in num_list:\n",
    "        print_format(i)"
   ]
  },
  {
   "cell_type": "code",
   "execution_count": 27,
   "metadata": {},
   "outputs": [],
   "source": [
    "nums1 = [\n",
    "    -562949952897025,\n",
    "    2097152\n",
    "]\n",
    "\n",
    "nums2 = [\n",
    "    -562949953421313,\n",
    "    524288,\n",
    "    2097152\n",
    "]\n",
    "\n",
    "nums3 = [\n",
    "    -562949954469889,\n",
    "    -562949953945601,\n",
    "    -281474976710657,\n",
    "    1048576\n",
    "]\n",
    "\n",
    "nums4 = [\n",
    "    -562949955518465,\n",
    "    -844424931180545,\n",
    "    -562949954994177,\n",
    "    -562949953945601,\n",
    "    -281474976710657,\n",
    "    1048576\n",
    "]\n",
    "\n",
    "nums5 = [\n",
    "    -562949956567041,\n",
    "    -844424931704833,\n",
    "    -562949956042753,\n",
    "    -562949954994177,\n",
    "    -562949953945601,\n",
    "    -281474976710657,\n",
    "    1048576\n",
    "]"
   ]
  },
  {
   "cell_type": "code",
   "execution_count": 28,
   "metadata": {
    "scrolled": false
   },
   "outputs": [
    {
     "name": "stdout",
     "output_type": "stream",
     "text": [
      "count:1\n",
      "-0b0000000000001111111111111111111111111111110000000000000000001  |  -562949952897025\n",
      "0b00000000000000000000000000000000000000001000000000000000000000  |  2097152\n",
      "count:2\n",
      "-0b0000000000010000000000000000000000000000000000000000000000001  |  -562949953421313\n",
      "0b00000000000000000000000000000000000000000010000000000000000000  |  524288\n",
      "0b00000000000000000000000000000000000000001000000000000000000000  |  2097152\n",
      "count:3\n",
      "-0b0000000000010000000000000000000000000000100000000000000000001  |  -562949954469889\n",
      "-0b0000000000010000000000000000000000000000010000000000000000001  |  -562949953945601\n",
      "-0b0000000000001000000000000000000000000000000000000000000000001  |  -281474976710657\n",
      "0b00000000000000000000000000000000000000000100000000000000000000  |  1048576\n",
      "count:4\n",
      "-0b0000000000010000000000000000000000000001000000000000000000001  |  -562949955518465\n",
      "-0b0000000000011000000000000000000000000000100000000000000000001  |  -844424931180545\n",
      "-0b0000000000010000000000000000000000000000110000000000000000001  |  -562949954994177\n",
      "-0b0000000000010000000000000000000000000000010000000000000000001  |  -562949953945601\n",
      "-0b0000000000001000000000000000000000000000000000000000000000001  |  -281474976710657\n",
      "0b00000000000000000000000000000000000000000100000000000000000000  |  1048576\n",
      "count:5\n",
      "-0b0000000000010000000000000000000000000001100000000000000000001  |  -562949956567041\n",
      "-0b0000000000011000000000000000000000000000110000000000000000001  |  -844424931704833\n",
      "-0b0000000000010000000000000000000000000001010000000000000000001  |  -562949956042753\n",
      "-0b0000000000010000000000000000000000000000110000000000000000001  |  -562949954994177\n",
      "-0b0000000000010000000000000000000000000000010000000000000000001  |  -562949953945601\n",
      "-0b0000000000001000000000000000000000000000000000000000000000001  |  -281474976710657\n",
      "0b00000000000000000000000000000000000000000100000000000000000000  |  1048576\n"
     ]
    }
   ],
   "source": [
    "print('count:' + str(1))\n",
    "print_format_list(nums1)\n",
    "print('count:' + str(2))\n",
    "print_format_list(nums2)\n",
    "print('count:' + str(3))\n",
    "print_format_list(nums3)\n",
    "print('count:' + str(4))\n",
    "print_format_list(nums4)\n",
    "print('count:' + str(5))\n",
    "print_format_list(nums5)"
   ]
  },
  {
   "cell_type": "markdown",
   "metadata": {},
   "source": [
    "# Telegram test bot"
   ]
  },
  {
   "cell_type": "code",
   "execution_count": null,
   "metadata": {},
   "outputs": [],
   "source": [
    "from telegram.ext import Updater, CommandHandler, MessageHandler, Filters\n",
    "from telegram import ParseMode\n",
    "\n",
    "import logging\n",
    "import os\n",
    "\n",
    "logging.basicConfig(format='%(asctime)s - %(name)s - %(levelname)s - %(message)s',\n",
    "                    level=logging.INFO)\n",
    "\n",
    "logger = logging.getLogger(__name__)\n",
    "\n",
    "def hello(update, context):\n",
    "    context.bot.send_message(chat_id='@sakurano_ka_art',\n",
    "                            text='*bold*', parse_mode=ParseMode.MARKDOWN_V2)\n",
    "    update.message.reply_text('Sended')\n",
    "\n",
    "def start(update, context):\n",
    "    update.message.reply_text('Hello!')\n",
    "\n",
    "def post(update, context):\n",
    "    f = open(\"D:\\Photo\\image.jpg\", 'rb')\n",
    "    context.bot.send_photo(chat_id='@sakurano_ka_art', photo=f)    \n",
    "\n",
    "\n",
    "def collback_half_minute(context):\n",
    "    context.bot.send_message(chat_id='@sakurano_ka_art',\n",
    "                            text='~BEEEP~', parse_mode=ParseMode.MARKDOWN_V2)\n",
    "    \n",
    "\n",
    "def handle_document(bot, update):\n",
    "    chat_id = update.message.chat_id\n",
    "    document = update.message.document\n",
    "    print(document)\n",
    "    reply_document(document=document)\n",
    "#     context.bot.send_document(chat_id=chat_id)    \n",
    "    \n",
    "def handle_text(bot, update):\n",
    "    reply_text(text='Here!') \n",
    "    \n",
    "\n",
    "updater = Updater('992674991:AAH0q2z1W--MrqfDatIwjgba8E9Gqg76jLc', use_context=True)\n",
    "\n",
    "#j = updater.job_queue\n",
    "# job_half_minute = j.run_repeating(collback_half_minute, interval=30, first=0)\n",
    "\n",
    "#updater.dispatcher.add_handler(CommandHandler('hello', hello))\n",
    "\n",
    "dp = updater.dispatcher\n",
    "\n",
    "# dp.add_handler(CommandHandler('start', start))\n",
    "# dp.add_handler(CommandHandler('hello', hello))\n",
    "# dp.add_handler(CommandHandler('post', post))\n",
    "# dp.add_handler(CommandHandler('send', send))\n",
    "\n",
    "document_handler = MessageHandler(Filters.document, handle_document)\n",
    "text_handler = MessageHandler(Filters.text, handle_text)\n",
    "\n",
    "dp.add_handler(document_handler)\n",
    "dp.add_handler(text_handler)\n",
    "\n",
    "updater.start_polling()\n",
    "updater.idle()"
   ]
  },
  {
   "cell_type": "markdown",
   "metadata": {},
   "source": [
    " # Image verifier"
   ]
  },
  {
   "cell_type": "code",
   "execution_count": null,
   "metadata": {},
   "outputs": [],
   "source": [
    "import os\n",
    "from PIL import Image\n",
    "from tqdm.notebook import tqdm\n",
    "\n",
    "IMAGES_PATH = \"F:\\\\\"\n",
    "BROKEN_PATH = 'F:\\\\BROKEN\\\\'\n",
    "IMAGE_EXTS = {'jpg','gif','jpeg','png'}\n",
    "\n",
    "broken_images = []\n",
    "\n",
    "def walk_dir(path):\n",
    "    images = []\n",
    "    for root, dirs, files in os.walk(IMAGES_PATH):\n",
    "        for f in files:\n",
    "            if f.split('.')[-1].lower() in IMAGE_EXTS:\n",
    "                images.append(os.path.join(root,f))\n",
    "    return images\n",
    "\n",
    "\n",
    "def is_valid_image(image_path):\n",
    "    try:\n",
    "        im = Image.open(image_path)\n",
    "        #im.verify()\n",
    "        return True\n",
    "    except:\n",
    "        return False\n",
    "    \n",
    "    \n",
    "images = walk_dir(IMAGES_PATH)\n",
    "\n",
    "for i in tqdm(images):\n",
    "    if not is_valid_image(i):\n",
    "        broken_images.append(i)\n",
    "        \n",
    "# for i in broken_images:\n",
    "#     os.rename(i, os.path.join(BROKEN_PATH, i.split('\\\\')[-1]))"
   ]
  }
 ],
 "metadata": {
  "kernelspec": {
   "display_name": "Python 3",
   "language": "python",
   "name": "python3"
  },
  "language_info": {
   "codemirror_mode": {
    "name": "ipython",
    "version": 3
   },
   "file_extension": ".py",
   "mimetype": "text/x-python",
   "name": "python",
   "nbconvert_exporter": "python",
   "pygments_lexer": "ipython3",
   "version": "3.9.7"
  },
  "vscode": {
   "interpreter": {
    "hash": "32dcf48a0bd95ac63839b9c53d0ebb03f91e82aa8cf6ce4857a2df3abfacedec"
   }
  }
 },
 "nbformat": 4,
 "nbformat_minor": 2
}
