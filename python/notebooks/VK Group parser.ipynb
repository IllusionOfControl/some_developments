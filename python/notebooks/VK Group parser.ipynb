{
 "cells": [
  {
   "cell_type": "markdown",
   "metadata": {},
   "source": [
    "# VK group parser"
   ]
  },
  {
   "cell_type": "markdown",
   "metadata": {},
   "source": [
    "+ -129377401 - your ecchi\n",
    "+ -138792716 - Немного фетишист\n",
    "+ -163362241 - Ноги моя религия\n",
    "+ -169377271 - моя милая тян\n",
    "+ -100628010 - Опаньки, тут тян!\n",
    "+ -145355056 - Ani.ART\n",
    "+ -55438333 - shutdown\n",
    "+ -83478379 - Ichigomi <3\n",
    "+ -127518015 - Lolichan\n",
    "+ -126583244 - a. COUNTRY\n",
    "+ -70232735 - какого хрена так мило\n",
    "+ -100358623 - Alluring Art\n",
    "+ -109972945 - Happy loli\n",
    "+ -136642192 - HQ Anime Art | PhaseGrief\n",
    "+ -152039890 - Anime ~ Shelter of Angels\n",
    "+ -183108617 - sundome.\n",
    "+ -163874307 - C:\\ahegao face\\\n",
    "+ -188588013 - boku no manga\n",
    "+ -75265442 - Good ART\n",
    "+ -76042143 - Game Art\n",
    "+ -40709061 - StarDrake Art\n"
   ]
  },
  {
   "cell_type": "code",
   "execution_count": 3,
   "metadata": {},
   "outputs": [],
   "source": [
    "walls = set([\n",
    "    -129377401,\n",
    "    -138792716,\n",
    "    -163362241,\n",
    "    -169377271,\n",
    "    -100628010,\n",
    "    -145355056,\n",
    "    -55438333,\n",
    "    -83478379,\n",
    "    -127518015,\n",
    "    -126583244,\n",
    "    -70232735,\n",
    "    -100358623,\n",
    "    -109972945,\n",
    "    -152039890,\n",
    "    -183108617,\n",
    "    -163874307,\n",
    "    -188588013,\n",
    "    -75265442,\n",
    "    -76042143,\n",
    "    -40709061,\n",
    "    -10893245,\n",
    "    -83478379,\n",
    "    -178039852,\n",
    "    -198915721,\n",
    "    -169377271,\n",
    "    -138106240,\n",
    "    -75265442,\n",
    "    -127518015\n",
    "])"
   ]
  },
  {
   "cell_type": "code",
   "execution_count": null,
   "metadata": {
    "scrolled": false
   },
   "outputs": [],
   "source": [
    "import pymongo\n",
    "\n",
    "client = pymongo.MongoClient('192.168.24.100', 27017)\n",
    "\n",
    "db = client.vk_walls\n",
    "collection = db.posts\n",
    "\n",
    "last_post = next(collection.find()\n",
    "                 .sort(\"date\", pymongo.DESCENDING)\n",
    "                 .limit(1))"
   ]
  },
  {
   "cell_type": "code",
   "execution_count": null,
   "metadata": {
    "scrolled": true
   },
   "outputs": [],
   "source": [
    "import vk_api\n",
    "\n",
    "VK_LOGIN, VK_PASSWORD = '+375292078386', 'xMm8J6uNXLYVRc6'\n",
    "\n",
    "VK_WALL_ID = -55438333\n",
    "\n",
    "# initialize vk_api\n",
    "vk_session = vk_api.VkApi(VK_LOGIN, VK_PASSWORD)\n",
    "\n",
    "try:\n",
    "    vk_session.auth(token_only=True)\n",
    "except vk_api.AuthError as error_msg:\n",
    "    print(error_msg)\n",
    "\n",
    "tools = vk_api.VkTools(vk_session)\n",
    "api = vk_session.get_api()\n",
    "\n",
    "#max lim = 100\n",
    "for post in tools.get_all_iter('wall.get', 100, {'owner_id': VK_WALL_ID}, limit=10000):\n",
    "    if last_post['id'] == post['id']:\n",
    "        break\n",
    "    collection.insert_one(post)"
   ]
  },
  {
   "cell_type": "markdown",
   "metadata": {},
   "source": [
    "# Rewrited"
   ]
  },
  {
   "cell_type": "code",
   "execution_count": 4,
   "metadata": {},
   "outputs": [],
   "source": [
    "# Connect to Mongo\n",
    "import pymongo\n",
    "\n",
    "mongo_conn = pymongo.MongoClient('192.168.24.100', 27017)\n",
    "\n",
    "# Sign in to VK\n",
    "import vk_api\n",
    "\n",
    "VK_LOGIN, VK_PASSWORD = '+375292078386', 'xMm8J6uNXLYVRc6'\n",
    "\n",
    "# initialize vk_api\n",
    "vk_session = vk_api.VkApi(VK_LOGIN, VK_PASSWORD)\n",
    "\n",
    "try:\n",
    "    vk_session.auth(token_only=True)\n",
    "except vk_api.AuthError as error_msg:\n",
    "    print(error_msg)\n",
    "\n",
    "class VkScraper(object):\n",
    "    ATTACHMENT_PHOTO = \"photo\"\n",
    "    ATTACHMENT_DOCUMENT = \"doc\"\n",
    "    \n",
    "    def __init__(self, vk_session, mongo_conn):\n",
    "        self._vk_tools = vk_api.VkTools(vk_session)\n",
    "        self._vk_api = vk_session.get_api()\n",
    "        self._mongo_conn = mongo_conn\n",
    "        self._db_walls = mongo_conn.vk_walls\n",
    "        self._coll_posts = self._db_walls.posts\n",
    "        self._coll_walls = self._db_walls.walls\n",
    "        \n",
    "        \n",
    "    def scrap_wall(self, wall_id):\n",
    "        last_post = self.get_last_post(wall_id)\n",
    "        for post in self._vk_tools.get_all_iter('wall.get', 10, {'owner_id': wall_id}, limit=10000):\n",
    "            if post['id'] == last_post['id'] if last_post else 0:\n",
    "                break\n",
    "            self._coll_posts.insert_one(post)\n",
    "            \n",
    "    \n",
    "    def scrap_group_info(self, wall_id):\n",
    "        if wall_id not in self._coll_posts.distinct('id', {}):\n",
    "            group_info = self._vk_api.groups.getById(group_ids=[abs(wall_id)])\n",
    "            self._coll_walls.insert_one(group_info[0])\n",
    "    \n",
    "    def get_last_post(self, wall_id):\n",
    "        if wall_id in self._coll_posts.distinct('from_id', {}):\n",
    "            last_post = next(self._coll_posts.find({\"from_id\": wall_id})\n",
    "                            .sort(\"date\", pymongo.DESCENDING)\n",
    "                            .limit(1))\n",
    "            return last_post\n",
    "        else:\n",
    "            return None\n",
    "        \n",
    "\n",
    "    def exctract_data_urls(self, wall_id, attachments_type, divide_posts=False):\n",
    "        posts = self._coll_posts.find({\"owner_id\": wall_id})\n",
    "        for post in posts:\n",
    "            for item in post['attachments']:\n",
    "                if item['type'] == attachments_type:\n",
    "                    if attachments_type == self.ATTACHMENT_PHOTO:\n",
    "                        max_size = None\n",
    "                        for size in sizes:\n",
    "                            size['dimensions'] = size['height'] * size['widht']\n",
    "                            if max_size != None:\n",
    "                                if max_size['dimensions'] < size['dimensions']:\n",
    "                                    max_size = size\n",
    "                        yeld\n",
    "                        \n",
    "scraper = VkScraper(vk_session, mongo_conn)"
   ]
  },
  {
   "cell_type": "code",
   "execution_count": 5,
   "metadata": {},
   "outputs": [
    {
     "name": "stdout",
     "output_type": "stream",
     "text": [
      "scrapping wall id=-138106240\n",
      "scrapping wall id=-55438333\n",
      "scrapping wall id=-129377401\n",
      "scrapping wall id=-169377271\n",
      "scrapping wall id=-188588013\n",
      "scrapping wall id=-83478379\n",
      "scrapping wall id=-198915721\n",
      "scrapping wall id=-100358623\n",
      "scrapping wall id=-152039890\n",
      "scrapping wall id=-109972945\n",
      "scrapping wall id=-126583244\n",
      "scrapping wall id=-40709061\n",
      "scrapping wall id=-163362241\n",
      "scrapping wall id=-127518015\n",
      "scrapping wall id=-10893245\n",
      "scrapping wall id=-145355056\n",
      "scrapping wall id=-178039852\n",
      "scrapping wall id=-100628010\n",
      "scrapping wall id=-75265442\n",
      "scrapping wall id=-70232735\n",
      "scrapping wall id=-76042143\n",
      "scrapping wall id=-138792716\n",
      "scrapping wall id=-183108617\n",
      "scrapping wall id=-163874307\n"
     ]
    }
   ],
   "source": [
    "for wall_id in walls:\n",
    "    print('scrapping wall id=' + str(wall_id))\n",
    "    scraper.scrap_wall(wall_id)\n",
    "    scraper.scrap_group_info(wall_id)"
   ]
  },
  {
   "cell_type": "markdown",
   "metadata": {},
   "source": [
    "# VK_WALL_CATALOG"
   ]
  },
  {
   "cell_type": "code",
   "execution_count": 5,
   "metadata": {},
   "outputs": [],
   "source": [
    "import pymongo\n",
    "\n",
    "client = pymongo.MongoClient('192.168.24.100', 27017)\n",
    "\n",
    "db = client.vk_walls"
   ]
  },
  {
   "cell_type": "code",
   "execution_count": 6,
   "metadata": {},
   "outputs": [],
   "source": [
    "a = db.posts.find({}).limit(10)"
   ]
  },
  {
   "cell_type": "code",
   "execution_count": 8,
   "metadata": {},
   "outputs": [
    {
     "data": {
      "text/plain": [
       "{'_id': ObjectId('5f13351df4b77a0d4131fb2e'),\n",
       " 'id': 93220,\n",
       " 'from_id': -55438333,\n",
       " 'owner_id': -55438333,\n",
       " 'date': 1595060580,\n",
       " 'marked_as_ads': 0,\n",
       " 'post_type': 'post',\n",
       " 'text': '#HD #Wallpaper #Shutdown \\n#1920x1080@paperchan',\n",
       " 'attachments': [{'type': 'photo',\n",
       "   'photo': {'album_id': -7,\n",
       "    'date': 1594473769,\n",
       "    'id': 457266848,\n",
       "    'owner_id': -55438333,\n",
       "    'has_tags': False,\n",
       "    'access_key': '17ef6bf312ae20f549',\n",
       "    'sizes': [{'height': 73,\n",
       "      'url': 'https://sun4-16.userapi.com/LQezkz-G8zyZCAwc5nLyrXZCh5-gjxmVyq2pmg/UzELlDMfQes.jpg',\n",
       "      'type': 'm',\n",
       "      'width': 130},\n",
       "     {'height': 87,\n",
       "      'url': 'https://sun4-12.userapi.com/qXmtY7itUnYjfC_MRTP0dPzmEwfwvt4vaFABhw/ojbhgc4Tzkw.jpg',\n",
       "      'type': 'o',\n",
       "      'width': 130},\n",
       "     {'height': 133,\n",
       "      'url': 'https://sun4-10.userapi.com/-pyJHFeu6Z4145iUyaKVZuEDzGbixzE8_yhqgg/VAw87-9BjA4.jpg',\n",
       "      'type': 'p',\n",
       "      'width': 200},\n",
       "     {'height': 213,\n",
       "      'url': 'https://sun4-17.userapi.com/jxGGB1qLAMeHsvbB1Xk7cxPrVUXV1SpehpRRFA/yrTu3huSOM4.jpg',\n",
       "      'type': 'q',\n",
       "      'width': 320},\n",
       "     {'height': 340,\n",
       "      'url': 'https://sun4-10.userapi.com/SuLTp1BlEfZdnNXNb_H0QAeoTxnxoY8at8gxdw/Nz8QJvWZqy0.jpg',\n",
       "      'type': 'r',\n",
       "      'width': 510},\n",
       "     {'height': 42,\n",
       "      'url': 'https://sun4-17.userapi.com/KjnwnWrJUWYzyKGesa6Okl7dkjPMzvUqxjSuWg/PyiDPTn_Sd8.jpg',\n",
       "      'type': 's',\n",
       "      'width': 75},\n",
       "     {'height': 1080,\n",
       "      'url': 'https://sun4-17.userapi.com/Pc2Nc3CV6dSB91QMEABEhEcjevFhIMr10JPacQ/RemfChetgxQ.jpg',\n",
       "      'type': 'w',\n",
       "      'width': 1920},\n",
       "     {'height': 340,\n",
       "      'url': 'https://sun4-15.userapi.com/bSewDP87mZnpbNzriYch2D41zFfYTMpeHqu4CQ/Oyefk2dAzaY.jpg',\n",
       "      'type': 'x',\n",
       "      'width': 604},\n",
       "     {'height': 454,\n",
       "      'url': 'https://sun4-17.userapi.com/niDxfDzkJa1oUqwG12hU5qT7noZqn7kvu2HSGA/lhiFxJD4ogM.jpg',\n",
       "      'type': 'y',\n",
       "      'width': 807},\n",
       "     {'height': 720,\n",
       "      'url': 'https://sun4-15.userapi.com/TQypWSJxSg3QrCxhwrG31krjyjKLpzfH5EA7RA/MsiPmLf0WhE.jpg',\n",
       "      'type': 'z',\n",
       "      'width': 1280}],\n",
       "    'text': '',\n",
       "    'user_id': 100}},\n",
       "  {'type': 'doc',\n",
       "   'doc': {'id': 560891118,\n",
       "    'owner_id': 165941772,\n",
       "    'title': 'wallhaven-ym62z7.jpg',\n",
       "    'size': 456432,\n",
       "    'ext': 'jpg',\n",
       "    'date': 1594473768,\n",
       "    'type': 4,\n",
       "    'url': 'https://vk.com/doc165941772_560891118?hash=7f22dd4e568498ceed&dl=GI2DEMJWGE3TINY:1595094300:d405fb4fc524f3e3dc&api=1&no_preview=1',\n",
       "    'preview': {'photo': {'sizes': [{'src': 'https://sun9-59.userapi.com/c856232/u165941772/d8/-3/m_19b4a91a6f.jpg',\n",
       "        'width': 130,\n",
       "        'height': 74,\n",
       "        'type': 'm'},\n",
       "       {'src': 'https://sun9-59.userapi.com/c856232/u165941772/d8/-3/s_19b4a91a6f.jpg',\n",
       "        'width': 100,\n",
       "        'height': 57,\n",
       "        'type': 's'},\n",
       "       {'src': 'https://sun9-27.userapi.com/c856232/u165941772/d8/-3/x_19b4a91a6f.jpg',\n",
       "        'width': 604,\n",
       "        'height': 340,\n",
       "        'type': 'x'},\n",
       "       {'src': 'https://sun9-36.userapi.com/c856232/u165941772/d8/-3/y_19b4a91a6f.jpg',\n",
       "        'width': 807,\n",
       "        'height': 454,\n",
       "        'type': 'y'},\n",
       "       {'src': 'https://sun9-69.userapi.com/c856232/u165941772/d8/-3/z_19b4a91a6f.jpg',\n",
       "        'width': 1280,\n",
       "        'height': 720,\n",
       "        'type': 'z'},\n",
       "       {'src': 'https://sun9-53.userapi.com/c856232/u165941772/d8/-3/o_19b4a91a6f.jpg',\n",
       "        'width': 1920,\n",
       "        'height': 1080,\n",
       "        'type': 'o'},\n",
       "       {'src': 'https://sun9-53.userapi.com/impc/c856232/u165941772/d8/-3/o_19b4a91a6f.jpg?size=288x162&quality=90&sign=78ec7bfab6da9bc439121c6d6fc86e5e&c_uniq_tag=YEq9NM5Idkqo5RpHVvbDw1zof0JuLsbzMzJzwcQDiFQ',\n",
       "        'width': 288,\n",
       "        'height': 162,\n",
       "        'type': 'i'},\n",
       "       {'src': 'https://sun9-53.userapi.com/impc/c856232/u165941772/d8/-3/o_19b4a91a6f.jpg?size=192x108&quality=90&sign=0e42f491d20b8244424b47ffc26135d5&c_uniq_tag=OIrFiwiGNp8_MKALWZs_PHaeGF7b8dV45BKWN49gBoQ',\n",
       "        'width': 192,\n",
       "        'height': 108,\n",
       "        'type': 'd'}]}},\n",
       "    'access_key': 'bfec79662c09c7fa08'}}],\n",
       " 'post_source': {'type': 'vk'},\n",
       " 'comments': {'count': 0, 'can_post': 1, 'groups_can_post': True},\n",
       " 'likes': {'count': 23, 'user_likes': 0, 'can_like': 1, 'can_publish': 1},\n",
       " 'reposts': {'count': 1, 'user_reposted': 0},\n",
       " 'views': {'count': 1113},\n",
       " 'is_favorite': False}"
      ]
     },
     "execution_count": 8,
     "metadata": {},
     "output_type": "execute_result"
    }
   ],
   "source": [
    "next(a)"
   ]
  },
  {
   "cell_type": "code",
   "execution_count": 36,
   "metadata": {},
   "outputs": [],
   "source": [
    "import vk_api\n",
    "\n",
    "VK_LOGIN, VK_PASSWORD = '+375292078386', 'xMm8J6uNXLYVRc6'\n",
    "\n",
    "# initialize vk_api\n",
    "vk_session = vk_api.VkApi(VK_LOGIN, VK_PASSWORD)\n",
    "\n",
    "try:\n",
    "    vk_session.auth(token_only=True)\n",
    "except vk_api.AuthError as error_msg:\n",
    "    print(error_msg)\n",
    "\n",
    "tools = vk_api.VkTools(vk_session)\n",
    "vk_api = vk_session.get_api()"
   ]
  },
  {
   "cell_type": "code",
   "execution_count": 37,
   "metadata": {},
   "outputs": [],
   "source": [
    "a = vk_api.groups.getById(group_ids=[abs(wall_id)])"
   ]
  },
  {
   "cell_type": "code",
   "execution_count": 41,
   "metadata": {},
   "outputs": [
    {
     "data": {
      "text/plain": [
       "{'id': 129377401,\n",
       " 'name': 'your ecchi',\n",
       " 'screen_name': 'yourecchi',\n",
       " 'is_closed': 0,\n",
       " 'type': 'group',\n",
       " 'is_admin': 0,\n",
       " 'is_member': 1,\n",
       " 'is_advertiser': 0,\n",
       " 'photo_50': 'https://sun9-58.userapi.com/impf/c836730/v836730263/2e6ee/a8NkH0ohONo.jpg?size=50x0&quality=96&crop=40,33,664,664&sign=8b042716d13adaf3c1e2e57107669409&c_uniq_tag=pLzoHaeeT_P8cVBaNsFdb0N34T0IOzUprJ5YNfn45JU&ava=1',\n",
       " 'photo_100': 'https://sun9-58.userapi.com/impf/c836730/v836730263/2e6ee/a8NkH0ohONo.jpg?size=100x0&quality=96&crop=40,33,664,664&sign=296666fcd85bf67a9d505ff5b2b2d81d&c_uniq_tag=e3Mz6HjjSmBbELj-MESpJPbwOZRld9Cx0x86PU8RWqA&ava=1',\n",
       " 'photo_200': 'https://sun9-58.userapi.com/impf/c836730/v836730263/2e6ee/a8NkH0ohONo.jpg?size=200x0&quality=96&crop=40,33,664,664&sign=733e0ce20830c208e852473571a9f083&c_uniq_tag=54PdEEzP9s5UBXem9ndBrP-y4zKyXgOuh_MrXQOfFEo&ava=1'}"
      ]
     },
     "execution_count": 41,
     "metadata": {},
     "output_type": "execute_result"
    }
   ],
   "source": [
    "a[0]"
   ]
  },
  {
   "cell_type": "markdown",
   "metadata": {},
   "source": [
    "## Configure script with Download path"
   ]
  },
  {
   "cell_type": "code",
   "execution_count": null,
   "metadata": {
    "scrolled": true
   },
   "outputs": [],
   "source": [
    "BASE_PATH = \"D:\\\\VK_SCRAP\""
   ]
  },
  {
   "cell_type": "markdown",
   "metadata": {},
   "source": [
    "# Download wall as Photo"
   ]
  },
  {
   "cell_type": "code",
   "execution_count": null,
   "metadata": {},
   "outputs": [],
   "source": []
  },
  {
   "cell_type": "markdown",
   "metadata": {},
   "source": [
    "# Download wall as Doc"
   ]
  },
  {
   "cell_type": "code",
   "execution_count": null,
   "metadata": {},
   "outputs": [],
   "source": []
  },
  {
   "cell_type": "code",
   "execution_count": null,
   "metadata": {},
   "outputs": [],
   "source": []
  },
  {
   "cell_type": "code",
   "execution_count": null,
   "metadata": {},
   "outputs": [],
   "source": []
  },
  {
   "cell_type": "code",
   "execution_count": null,
   "metadata": {},
   "outputs": [],
   "source": []
  }
 ],
 "metadata": {
  "kernelspec": {
   "display_name": "Python 3 (ipykernel)",
   "language": "python",
   "name": "python3"
  },
  "language_info": {
   "codemirror_mode": {
    "name": "ipython",
    "version": 3
   },
   "file_extension": ".py",
   "mimetype": "text/x-python",
   "name": "python",
   "nbconvert_exporter": "python",
   "pygments_lexer": "ipython3",
   "version": "3.9.7"
  }
 },
 "nbformat": 4,
 "nbformat_minor": 4
}
